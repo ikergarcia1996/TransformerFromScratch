{
 "cells": [
  {
   "cell_type": "markdown",
   "metadata": {},
   "source": [
    "# Build GPT from scratch\n",
    "\n",
    "Source: https://youtu.be/kCc8FmEb1nY?si=U0tMEucoV0EaqMMz"
   ]
  },
  {
   "cell_type": "markdown",
   "metadata": {},
   "source": [
    "## READ THE DATA"
   ]
  },
  {
   "cell_type": "code",
   "execution_count": 1,
   "metadata": {},
   "outputs": [],
   "source": [
    "with open(\"data/NEWHOPE.TXT\", \"r\", encoding=\"utf8\") as f:\n",
    "    text = f.read()"
   ]
  },
  {
   "cell_type": "code",
   "execution_count": 2,
   "metadata": {},
   "outputs": [
    {
     "name": "stdout",
     "output_type": "stream",
     "text": [
      "Length of the dataset in characters: 199958\n"
     ]
    }
   ],
   "source": [
    "print(f\"Length of the dataset in characters: {len(text)}\")"
   ]
  },
  {
   "cell_type": "code",
   "execution_count": 3,
   "metadata": {},
   "outputs": [
    {
     "name": "stdout",
     "output_type": "stream",
     "text": [
      "A long time ago, in a galaxy far, far, away...\n",
      "\n",
      "A vast sea of stars serves as the backdrop for the main title. War drums\n",
      "echo through the heavens as a rollup slowly crawls into infinity.\n",
      "\n",
      "It is a period of civil war. Rebel spaceships, striking from a hidden base,\n",
      "have won their first victory against the evil Galactic Empire.\n",
      "During the battle, Rebel spies managed to steal secret plans to the\n",
      "Empire's ultimate weapon, the Death Star, an armored space station with\n",
      "enough power to destroy an entire planet.\n",
      "Pursued by the Empire's sinister agents, Princess Leia races home aboard\n",
      "her starship, custodian of the stolen plans that can save her people and\n",
      "restore freedom to the galaxy...\n",
      "\n",
      "The awesome yellow planet of Tatooine emerges from a total eclipse, her two\n",
      "moons glowing against the darkness. A tiny silver spacecraft, a Rebel\n",
      "Blockade Runner firing lasers from the back of the ship, races through\n",
      "space. It is pursed by a giant Imperial Stardestroyer. Hundreds of deadly\n",
      "laserbolts streak fr\n"
     ]
    }
   ],
   "source": [
    "print(text[:1000])"
   ]
  },
  {
   "cell_type": "code",
   "execution_count": 4,
   "metadata": {},
   "outputs": [
    {
     "name": "stdout",
     "output_type": "stream",
     "text": [
      "\n",
      " !\"&'(),-./012346789:;?ABCDEFGHIJKLMNOPQRSTUVWXYZabcdefghijklmnopqrstuvwxyz\n",
      "76\n"
     ]
    }
   ],
   "source": [
    "# All the unique characters that occur in this text\n",
    "chars = sorted(list(set(text)))\n",
    "vocab_size = len(chars)\n",
    "print(\"\".join(chars))\n",
    "print(vocab_size)"
   ]
  },
  {
   "cell_type": "markdown",
   "metadata": {},
   "source": [
    "# Tokenizer\n",
    "\n",
    "Character level tokenizer"
   ]
  },
  {
   "cell_type": "code",
   "execution_count": 5,
   "metadata": {},
   "outputs": [
    {
     "name": "stdout",
     "output_type": "stream",
     "text": [
      "[57, 58, 1, 69, 57, 54, 67, 54, 2]\n",
      "hi there!\n"
     ]
    }
   ],
   "source": [
    "stoi = {ch: i for i, ch in enumerate(chars)}\n",
    "itos = {i: ch for i, ch in enumerate(chars)}\n",
    "\n",
    "\n",
    "def encode(s):\n",
    "    # Encoder: take a string, output a list of integers\n",
    "    return [stoi[c] for c in s]\n",
    "\n",
    "\n",
    "def decode(l):\n",
    "    # Decoder: take a list of integers, output a string\n",
    "    return \"\".join([itos[i] for i in l])\n",
    "\n",
    "\n",
    "print(encode(\"hi there!\"))\n",
    "print(decode(encode(\"hi there!\")))"
   ]
  },
  {
   "cell_type": "markdown",
   "metadata": {},
   "source": [
    "# Build dataset"
   ]
  },
  {
   "cell_type": "code",
   "execution_count": 6,
   "metadata": {},
   "outputs": [
    {
     "name": "stdout",
     "output_type": "stream",
     "text": [
      "torch.Size([199958]) torch.int64\n",
      "tensor([24,  1, 61, 64, 63, 56,  1, 69, 58, 62, 54,  1, 50, 56, 64,  8,  1, 58,\n",
      "        63,  1, 50,  1, 56, 50, 61, 50, 73, 74,  1, 55, 50, 67,  8,  1, 55, 50,\n",
      "        67,  8,  1, 50, 72, 50, 74, 10, 10, 10,  0,  0, 24,  1, 71, 50, 68, 69,\n",
      "         1, 68, 54, 50,  1, 64, 55,  1, 68, 69, 50, 67, 68,  1, 68, 54, 67, 71,\n",
      "        54, 68,  1, 50, 68,  1, 69, 57, 54,  1, 51, 50, 52, 60, 53, 67, 64, 65,\n",
      "         1, 55, 64, 67,  1, 69, 57, 54,  1, 62, 50, 58, 63,  1, 69, 58, 69, 61,\n",
      "        54, 10,  1, 46, 50, 67,  1, 53, 67, 70, 62, 68,  0, 54, 52, 57, 64,  1,\n",
      "        69, 57, 67, 64, 70, 56, 57,  1, 69, 57, 54,  1, 57, 54, 50, 71, 54, 63,\n",
      "        68,  1, 50, 68,  1, 50,  1, 67, 64, 61, 61, 70, 65,  1, 68, 61, 64, 72,\n",
      "        61, 74,  1, 52, 67, 50, 72, 61, 68,  1, 58, 63, 69, 64,  1, 58, 63, 55,\n",
      "        58, 63, 58, 69, 74, 10,  0,  0, 32, 69,  1, 58, 68,  1, 50,  1, 65, 54,\n",
      "        67, 58, 64, 53,  1, 64, 55,  1, 52, 58, 71, 58, 61,  1, 72, 50, 67, 10,\n",
      "         1, 41, 54, 51, 54, 61,  1, 68, 65, 50, 52, 54, 68, 57, 58, 65, 68,  8,\n",
      "         1, 68, 69, 67, 58, 60, 58, 63, 56,  1, 55, 67, 64, 62,  1, 50,  1, 57,\n",
      "        58, 53, 53, 54, 63,  1, 51, 50, 68, 54,  8,  0, 57, 50, 71, 54,  1, 72,\n",
      "        64, 63,  1, 69, 57, 54, 58, 67,  1, 55, 58, 67, 68, 69,  1, 71, 58, 52,\n",
      "        69, 64, 67, 74,  1, 50, 56, 50, 58, 63, 68, 69,  1, 69, 57, 54,  1, 54,\n",
      "        71, 58, 61,  1, 30, 50, 61, 50, 52, 69, 58, 52,  1, 28, 62, 65, 58, 67,\n",
      "        54, 10,  0, 27, 70, 67, 58, 63, 56,  1, 69, 57, 54,  1, 51, 50, 69, 69,\n",
      "        61, 54,  8,  1, 41, 54, 51, 54, 61,  1, 68, 65, 58, 54, 68,  1, 62, 50,\n",
      "        63, 50, 56, 54, 53,  1, 69, 64,  1, 68, 69, 54, 50, 61,  1, 68, 54, 52,\n",
      "        67, 54, 69,  1, 65, 61, 50, 63, 68,  1, 69, 64,  1, 69, 57, 54,  0, 28,\n",
      "        62, 65, 58, 67, 54,  5, 68,  1, 70, 61, 69, 58, 62, 50, 69, 54,  1, 72,\n",
      "        54, 50, 65, 64, 63,  8,  1, 69, 57, 54,  1, 27, 54, 50, 69, 57,  1, 42,\n",
      "        69, 50, 67,  8,  1, 50, 63,  1, 50, 67, 62, 64, 67, 54, 53,  1, 68, 65,\n",
      "        50, 52, 54,  1, 68, 69, 50, 69, 58, 64, 63,  1, 72, 58, 69, 57,  0, 54,\n",
      "        63, 64, 70, 56, 57,  1, 65, 64, 72, 54, 67,  1, 69, 64,  1, 53, 54, 68,\n",
      "        69, 67, 64, 74,  1, 50, 63,  1, 54, 63, 69, 58, 67, 54,  1, 65, 61, 50,\n",
      "        63, 54, 69, 10,  0, 39, 70, 67, 68, 70, 54, 53,  1, 51, 74,  1, 69, 57,\n",
      "        54,  1, 28, 62, 65, 58, 67, 54,  5, 68,  1, 68, 58, 63, 58, 68, 69, 54,\n",
      "        67,  1, 50, 56, 54, 63, 69, 68,  8,  1, 39, 67, 58, 63, 52, 54, 68, 68,\n",
      "         1, 35, 54, 58, 50,  1, 67, 50, 52, 54, 68,  1, 57, 64, 62, 54,  1, 50,\n",
      "        51, 64, 50, 67, 53,  0, 57, 54, 67,  1, 68, 69, 50, 67, 68, 57, 58, 65,\n",
      "         8,  1, 52, 70, 68, 69, 64, 53, 58, 50, 63,  1, 64, 55,  1, 69, 57, 54,\n",
      "         1, 68, 69, 64, 61, 54, 63,  1, 65, 61, 50, 63, 68,  1, 69, 57, 50, 69,\n",
      "         1, 52, 50, 63,  1, 68, 50, 71, 54,  1, 57, 54, 67,  1, 65, 54, 64, 65,\n",
      "        61, 54,  1, 50, 63, 53,  0, 67, 54, 68, 69, 64, 67, 54,  1, 55, 67, 54,\n",
      "        54, 53, 64, 62,  1, 69, 64,  1, 69, 57, 54,  1, 56, 50, 61, 50, 73, 74,\n",
      "        10, 10, 10,  0,  0, 43, 57, 54,  1, 50, 72, 54, 68, 64, 62, 54,  1, 74,\n",
      "        54, 61, 61, 64, 72,  1, 65, 61, 50, 63, 54, 69,  1, 64, 55,  1, 43, 50,\n",
      "        69, 64, 64, 58, 63, 54,  1, 54, 62, 54, 67, 56, 54, 68,  1, 55, 67, 64,\n",
      "        62,  1, 50,  1, 69, 64, 69, 50, 61,  1, 54, 52, 61, 58, 65, 68, 54,  8,\n",
      "         1, 57, 54, 67,  1, 69, 72, 64,  0, 62, 64, 64, 63, 68,  1, 56, 61, 64,\n",
      "        72, 58, 63, 56,  1, 50, 56, 50, 58, 63, 68, 69,  1, 69, 57, 54,  1, 53,\n",
      "        50, 67, 60, 63, 54, 68, 68, 10,  1, 24,  1, 69, 58, 63, 74,  1, 68, 58,\n",
      "        61, 71, 54, 67,  1, 68, 65, 50, 52, 54, 52, 67, 50, 55, 69,  8,  1, 50,\n",
      "         1, 41, 54, 51, 54, 61,  0, 25, 61, 64, 52, 60, 50, 53, 54,  1, 41, 70,\n",
      "        63, 63, 54, 67,  1, 55, 58, 67, 58, 63, 56,  1, 61, 50, 68, 54, 67, 68,\n",
      "         1, 55, 67, 64, 62,  1, 69, 57, 54,  1, 51, 50, 52, 60,  1, 64, 55,  1,\n",
      "        69, 57, 54,  1, 68, 57, 58, 65,  8,  1, 67, 50, 52, 54, 68,  1, 69, 57,\n",
      "        67, 64, 70, 56, 57,  0, 68, 65, 50, 52, 54, 10,  1, 32, 69,  1, 58, 68,\n",
      "         1, 65, 70, 67, 68, 54, 53,  1, 51, 74,  1, 50,  1, 56, 58, 50, 63, 69,\n",
      "         1, 32, 62, 65, 54, 67, 58, 50, 61,  1, 42, 69, 50, 67, 53, 54, 68, 69,\n",
      "        67, 64, 74, 54, 67, 10,  1, 31, 70, 63, 53, 67, 54, 53, 68,  1, 64, 55,\n",
      "         1, 53, 54, 50, 53, 61, 74,  0, 61, 50, 68, 54, 67, 51, 64, 61, 69, 68,\n",
      "         1, 68, 69, 67, 54, 50, 60,  1, 55, 67])\n"
     ]
    }
   ],
   "source": [
    "import torch\n",
    "\n",
    "data = torch.tensor(encode(text), dtype=torch.long)\n",
    "print(data.shape, data.dtype)\n",
    "print(data[:1000])"
   ]
  },
  {
   "cell_type": "code",
   "execution_count": 7,
   "metadata": {},
   "outputs": [
    {
     "name": "stdout",
     "output_type": "stream",
     "text": [
      "Training data lengh: 179962\n",
      "Val data length: 19996\n"
     ]
    }
   ],
   "source": [
    "n = int(0.9 * len(data))\n",
    "train_data = data[:n]\n",
    "val_data = data[n:]\n",
    "\n",
    "print(f\"Training data lengh: {len(train_data)}\")\n",
    "print(f\"Val data length: {len(val_data)}\")"
   ]
  },
  {
   "cell_type": "code",
   "execution_count": 8,
   "metadata": {},
   "outputs": [
    {
     "data": {
      "text/plain": [
       "tensor([24,  1, 61, 64, 63, 56,  1, 69, 58])"
      ]
     },
     "execution_count": 8,
     "metadata": {},
     "output_type": "execute_result"
    }
   ],
   "source": [
    "block_size = 8  # Context lengh\n",
    "train_data[: block_size + 1]"
   ]
  },
  {
   "cell_type": "code",
   "execution_count": 9,
   "metadata": {},
   "outputs": [
    {
     "name": "stdout",
     "output_type": "stream",
     "text": [
      "When input is tensor([24]) the target is: 1\n",
      "When input is tensor([24,  1]) the target is: 61\n",
      "When input is tensor([24,  1, 61]) the target is: 64\n",
      "When input is tensor([24,  1, 61, 64]) the target is: 63\n",
      "When input is tensor([24,  1, 61, 64, 63]) the target is: 56\n",
      "When input is tensor([24,  1, 61, 64, 63, 56]) the target is: 1\n",
      "When input is tensor([24,  1, 61, 64, 63, 56,  1]) the target is: 69\n",
      "When input is tensor([24,  1, 61, 64, 63, 56,  1, 69]) the target is: 58\n"
     ]
    }
   ],
   "source": [
    "x = train_data[:block_size]  # The input is a sequence of lengh block size\n",
    "y = train_data[1 : block_size + 1]  # The output are the characters + 1\n",
    "for t in range(block_size):\n",
    "    context = x[: t + 1]\n",
    "    target = y[t]\n",
    "    print(f\"When input is {context} the target is: {target}\")"
   ]
  },
  {
   "cell_type": "code",
   "execution_count": 10,
   "metadata": {},
   "outputs": [
    {
     "name": "stdout",
     "output_type": "stream",
     "text": [
      "inputs:\n",
      "torch.Size([4, 8])\n",
      "tensor([[ 1, 51, 64, 72, 61, 68,  1, 64],\n",
      "        [67, 62, 69, 67, 64, 64, 65, 54],\n",
      "        [52, 54, 61, 61, 68,  1, 50, 63],\n",
      "        [ 1, 69, 64, 72, 50, 67, 53,  1]])\n",
      "targets:\n",
      "torch.Size([4, 8])\n",
      "tensor([[51, 64, 72, 61, 68,  1, 64, 55],\n",
      "        [62, 69, 67, 64, 64, 65, 54, 67],\n",
      "        [54, 61, 61, 68,  1, 50, 63, 53],\n",
      "        [69, 64, 72, 50, 67, 53,  1, 50]])\n"
     ]
    }
   ],
   "source": [
    "torch.manual_seed(33)\n",
    "batch_size = 4  # how many independent sequence will be process in parallel?\n",
    "block_size = 8  # what is the maximun context length for predictions?\n",
    "\n",
    "\n",
    "def get_batch(split):\n",
    "    # generate a small batch of data of inputs x and targets y\n",
    "    data = train_data if split == \"train\" else val_data\n",
    "    ix = torch.randint(len(data) - block_size, (batch_size,))\n",
    "    x = torch.stack([data[i : i + block_size] for i in ix])\n",
    "    y = torch.stack([data[i + 1 : i + block_size + 1] for i in ix])\n",
    "    return x, y\n",
    "\n",
    "\n",
    "xb, yb = get_batch(\"train\")\n",
    "print(\"inputs:\")\n",
    "print(xb.shape)\n",
    "print(xb)\n",
    "print(\"targets:\")\n",
    "print(yb.shape)\n",
    "print(yb)"
   ]
  },
  {
   "cell_type": "markdown",
   "metadata": {},
   "source": [
    "# Bigram language model\n",
    "\n",
    "In this baseline, each token only sees itself to predict the next one. It doesn't have a view of the sequence. "
   ]
  },
  {
   "cell_type": "code",
   "execution_count": 11,
   "metadata": {},
   "outputs": [
    {
     "name": "stdout",
     "output_type": "stream",
     "text": [
      "torch.Size([32, 76])\n",
      "tensor(4.8017, grad_fn=<NllLossBackward0>)\n"
     ]
    }
   ],
   "source": [
    "import torch\n",
    "import torch.nn as nn\n",
    "from torch.nn import functional as F\n",
    "\n",
    "torch.manual_seed(33)\n",
    "\n",
    "\n",
    "class BigramLanguageModel(nn.Module):\n",
    "    def __init__(self, vocab_size):\n",
    "        super().__init__()\n",
    "        # Each token directly reads off the logits for the net token from a lookup table\n",
    "        self.token_embedding_table = nn.Embedding(vocab_size, vocab_size)\n",
    "\n",
    "    def forward(self, idx, targets=None):\n",
    "        # IDX SIZE: (Batch Size, Sequence_length)\n",
    "        # Target size: (Batch Size, Sequence length)\n",
    "\n",
    "        logits = self.token_embedding_table(\n",
    "            idx\n",
    "        )  # Logits size: (Batch Size, Sequence Length, C (Vocab_size))\n",
    "\n",
    "        if targets is None:\n",
    "            loss = None\n",
    "        else:\n",
    "            # Pytorch expets B x C x T\n",
    "            B, T, C = logits.shape\n",
    "            logits = logits.view(B * T, C)\n",
    "            targets = targets.view(B * T)\n",
    "            loss = F.cross_entropy(logits, targets)\n",
    "\n",
    "        return logits, loss\n",
    "\n",
    "    def generate(self, idx, max_new_tokens: int):\n",
    "        # idx is (B, Current Sequence Length) array of indices in the current context\n",
    "        for _ in range(max_new_tokens):\n",
    "            # Get the predictions\n",
    "            logits, loss = self(idx)\n",
    "            # Focus only on the last time step\n",
    "            logits = logits[:, -1, :]  # Becomes (Batch Size, Vocab Size)\n",
    "            # Apply softmax to tget probabilities\n",
    "            probs = F.softmax(logits, dim=-1)  # (Batch Size, Vocab Size)\n",
    "            # Sample from the distribution\n",
    "            idx_next = torch.multinomial(probs, num_samples=1)  # (Batch Size , 1)\n",
    "            # Apprend samples index tot he running sequence\n",
    "            idx = torch.cat(\n",
    "                (idx, idx_next), dim=1\n",
    "            )  # (Batch Size, Curent Sequence_length +1)\n",
    "\n",
    "        return idx\n",
    "\n",
    "\n",
    "m = BigramLanguageModel(vocab_size)\n",
    "logits, loss = m(xb, yb)\n",
    "print(logits.shape)\n",
    "print(loss)  # Expected loss (-ln(1/vocab_size(76))) = 4.33"
   ]
  },
  {
   "cell_type": "code",
   "execution_count": 12,
   "metadata": {},
   "outputs": [
    {
     "name": "stdout",
     "output_type": "stream",
     "text": [
      "\n",
      "tONFxr!tnGyNLOqo28\"wh0D4CeIGNjpT\n"
     ]
    }
   ],
   "source": [
    "idx = torch.zeros((1, 1), dtype=torch.long)\n",
    "idx = m.generate(idx, max_new_tokens=32)[0].tolist()\n",
    "print(decode(idx))"
   ]
  },
  {
   "cell_type": "markdown",
   "metadata": {},
   "source": [
    "### Train the model"
   ]
  },
  {
   "cell_type": "code",
   "execution_count": 15,
   "metadata": {},
   "outputs": [
    {
     "name": "stdout",
     "output_type": "stream",
     "text": [
      "Using device: cuda\n"
     ]
    },
    {
     "data": {
      "application/vnd.jupyter.widget-view+json": {
       "model_id": "8d0ae9fcc8e14e0f8f67d861e2bf2aec",
       "version_major": 2,
       "version_minor": 0
      },
      "text/plain": [
       "Training. Current Loss: nan:   0%|          | 0/10000 [00:00<?, ?it/s]"
      ]
     },
     "metadata": {},
     "output_type": "display_data"
    },
    {
     "data": {
      "application/vnd.jupyter.widget-view+json": {
       "model_id": "da919e712365439490449bb6d0bb279d",
       "version_major": 2,
       "version_minor": 0
      },
      "text/plain": [
       "Evaluation:   0%|          | 0/100 [00:00<?, ?it/s]"
      ]
     },
     "metadata": {},
     "output_type": "display_data"
    },
    {
     "name": "stdout",
     "output_type": "stream",
     "text": [
      "Evaluation loss. Step 0: 4.7099\n"
     ]
    },
    {
     "data": {
      "application/vnd.jupyter.widget-view+json": {
       "model_id": "c002e57ca5a54c2b93b51134dbd82fed",
       "version_major": 2,
       "version_minor": 0
      },
      "text/plain": [
       "Evaluation:   0%|          | 0/100 [00:00<?, ?it/s]"
      ]
     },
     "metadata": {},
     "output_type": "display_data"
    },
    {
     "name": "stdout",
     "output_type": "stream",
     "text": [
      "Evaluation loss. Step 1000: 3.8483\n"
     ]
    },
    {
     "data": {
      "application/vnd.jupyter.widget-view+json": {
       "model_id": "918ce33893214a91bbfa75006ff938aa",
       "version_major": 2,
       "version_minor": 0
      },
      "text/plain": [
       "Evaluation:   0%|          | 0/100 [00:00<?, ?it/s]"
      ]
     },
     "metadata": {},
     "output_type": "display_data"
    },
    {
     "name": "stdout",
     "output_type": "stream",
     "text": [
      "Evaluation loss. Step 2000: 3.3097\n"
     ]
    },
    {
     "data": {
      "application/vnd.jupyter.widget-view+json": {
       "model_id": "45fde8c2688d47b79fb0a39898857d85",
       "version_major": 2,
       "version_minor": 0
      },
      "text/plain": [
       "Evaluation:   0%|          | 0/100 [00:00<?, ?it/s]"
      ]
     },
     "metadata": {},
     "output_type": "display_data"
    },
    {
     "name": "stdout",
     "output_type": "stream",
     "text": [
      "Evaluation loss. Step 3000: 3.0102\n"
     ]
    },
    {
     "data": {
      "application/vnd.jupyter.widget-view+json": {
       "model_id": "dfbedb4f51b34439b5a059a68461c9b8",
       "version_major": 2,
       "version_minor": 0
      },
      "text/plain": [
       "Evaluation:   0%|          | 0/100 [00:00<?, ?it/s]"
      ]
     },
     "metadata": {},
     "output_type": "display_data"
    },
    {
     "name": "stdout",
     "output_type": "stream",
     "text": [
      "Evaluation loss. Step 4000: 2.8865\n"
     ]
    },
    {
     "data": {
      "application/vnd.jupyter.widget-view+json": {
       "model_id": "99f45fda164d4fe1a45f6cfa7d9777f2",
       "version_major": 2,
       "version_minor": 0
      },
      "text/plain": [
       "Evaluation:   0%|          | 0/100 [00:00<?, ?it/s]"
      ]
     },
     "metadata": {},
     "output_type": "display_data"
    },
    {
     "name": "stdout",
     "output_type": "stream",
     "text": [
      "Evaluation loss. Step 5000: 2.8164\n"
     ]
    },
    {
     "data": {
      "application/vnd.jupyter.widget-view+json": {
       "model_id": "c8622977350345beb7c69409fc7547c8",
       "version_major": 2,
       "version_minor": 0
      },
      "text/plain": [
       "Evaluation:   0%|          | 0/100 [00:00<?, ?it/s]"
      ]
     },
     "metadata": {},
     "output_type": "display_data"
    },
    {
     "name": "stdout",
     "output_type": "stream",
     "text": [
      "Evaluation loss. Step 6000: 2.7727\n"
     ]
    },
    {
     "data": {
      "application/vnd.jupyter.widget-view+json": {
       "model_id": "8918a558d1164ac68744c7cadc5afa96",
       "version_major": 2,
       "version_minor": 0
      },
      "text/plain": [
       "Evaluation:   0%|          | 0/100 [00:00<?, ?it/s]"
      ]
     },
     "metadata": {},
     "output_type": "display_data"
    },
    {
     "name": "stdout",
     "output_type": "stream",
     "text": [
      "Evaluation loss. Step 7000: 2.7442\n"
     ]
    },
    {
     "data": {
      "application/vnd.jupyter.widget-view+json": {
       "model_id": "836c37bd21a9405faf22de5b6c8d36c2",
       "version_major": 2,
       "version_minor": 0
      },
      "text/plain": [
       "Evaluation:   0%|          | 0/100 [00:00<?, ?it/s]"
      ]
     },
     "metadata": {},
     "output_type": "display_data"
    },
    {
     "name": "stdout",
     "output_type": "stream",
     "text": [
      "Evaluation loss. Step 8000: 2.7417\n"
     ]
    },
    {
     "data": {
      "application/vnd.jupyter.widget-view+json": {
       "model_id": "2a73b18e41bd486b86e586fad0729476",
       "version_major": 2,
       "version_minor": 0
      },
      "text/plain": [
       "Evaluation:   0%|          | 0/100 [00:00<?, ?it/s]"
      ]
     },
     "metadata": {},
     "output_type": "display_data"
    },
    {
     "name": "stdout",
     "output_type": "stream",
     "text": [
      "Evaluation loss. Step 9000: 2.7371\n"
     ]
    },
    {
     "data": {
      "image/png": "[encoded data removed]",
      "text/plain": [
       "<Figure size 1200x600 with 1 Axes>"
      ]
     },
     "metadata": {},
     "output_type": "display_data"
    },
    {
     "data": {
      "image/png": "[encoded data removed]",
      "text/plain": [
       "<Figure size 1200x600 with 1 Axes>"
      ]
     },
     "metadata": {},
     "output_type": "display_data"
    }
   ],
   "source": [
    "import matplotlib.pyplot as plt\n",
    "from tqdm.auto import tqdm\n",
    "\n",
    "batch_size = 32\n",
    "num_iterations = 10000\n",
    "eval_iters = 100\n",
    "\n",
    "# Use Cuda if available\n",
    "device = torch.device(\"cuda\" if torch.cuda.is_available() else \"cpu\")\n",
    "print(f\"Using device: {device}\")\n",
    "m = m.to(device)\n",
    "\n",
    "# Create PyTroch optimizer\n",
    "optimizer = torch.optim.AdamW(m.parameters(), lr=1e-3)\n",
    "\n",
    "\n",
    "train_losses = []\n",
    "eval_losses = []\n",
    "\n",
    "\n",
    "@torch.no_grad()\n",
    "def eval_model():\n",
    "    out = []\n",
    "    m.eval()\n",
    "    with tqdm(total=eval_iters, desc=\"Evaluation\", leave=False) as pbar:\n",
    "        for _ in range(eval_iters):\n",
    "            X, Y = get_batch(\"val\")\n",
    "            logits, loss = m(X.to(device), Y.to(device))\n",
    "            out.append(loss.item())\n",
    "            pbar.update(1)\n",
    "\n",
    "    m.train()\n",
    "    return sum(out) / len(out)\n",
    "\n",
    "\n",
    "with tqdm(total=num_iterations, desc=\"Training. Current Loss: nan\") as pbar:\n",
    "    for step in range(num_iterations):\n",
    "        # Sample a batch of data\n",
    "\n",
    "        xb, yb = get_batch(\"train\")\n",
    "\n",
    "        # Evaluate the loss\n",
    "        logits, loss = m(xb.to(device), yb.to(device))\n",
    "\n",
    "        optimizer.zero_grad(set_to_none=True)\n",
    "        loss.backward()\n",
    "        optimizer.step()\n",
    "\n",
    "        # print(loss.item())\n",
    "        train_losses.append(loss.item())\n",
    "        pbar.set_description(f\"Training. Current Loss: {loss.item():.4f}\")\n",
    "        pbar.update(1)\n",
    "\n",
    "        if step % 1000 == 0:\n",
    "            avg_loss = eval_model()\n",
    "            eval_losses.append(avg_loss)\n",
    "            print(f\"Evaluation loss. Step {step}: {avg_loss:.4f}\")\n",
    "\n",
    "plt.figure(figsize=(12, 6))\n",
    "plt.plot(range(len(train_losses)), train_losses)\n",
    "plt.xlabel(\"Training steps\")\n",
    "plt.ylabel(\"Loss\")\n",
    "plt.title(f\"Training Loss: {train_losses[-1]:.4f}\")\n",
    "plt.show()\n",
    "\n",
    "\n",
    "plt.figure(figsize=(12, 6))\n",
    "plt.plot(range(len(eval_losses)), eval_losses)\n",
    "plt.xlabel(\"Training steps\")\n",
    "plt.ylabel(\"Loss\")\n",
    "plt.title(f\"Evaluation Loss: {eval_losses[-1]:.4f}\")\n",
    "plt.show()"
   ]
  },
  {
   "cell_type": "code",
   "execution_count": 16,
   "metadata": {},
   "outputs": [
    {
     "name": "stdout",
     "output_type": "stream",
     "text": [
      "\n",
      "\n",
      "ONThe CEXTen then d t Des THakes TAG The saplouirt tcthed we he\n"
     ]
    }
   ],
   "source": [
    "idx = torch.zeros((1, 1), dtype=torch.long).to(device)\n",
    "idx = m.generate(idx, max_new_tokens=64)[0].tolist()\n",
    "print(decode(idx))"
   ]
  },
  {
   "cell_type": "markdown",
   "metadata": {},
   "source": [
    "# The mathematical trick in self-attention"
   ]
  },
  {
   "cell_type": "code",
   "execution_count": 18,
   "metadata": {},
   "outputs": [
    {
     "data": {
      "text/plain": [
       "torch.Size([4, 8, 2])"
      ]
     },
     "execution_count": 18,
     "metadata": {},
     "output_type": "execute_result"
    }
   ],
   "source": [
    "# Consider the following toy example:\n",
    "\n",
    "torch.manual_seed(33)\n",
    "B, T, C = 4, 8, 2  # batch, time, channels\n",
    "\n",
    "x = torch.rand(B, T, C)\n",
    "x.shape"
   ]
  },
  {
   "cell_type": "code",
   "execution_count": 21,
   "metadata": {},
   "outputs": [
    {
     "data": {
      "text/plain": [
       "tensor([[0.6186, 0.5587],\n",
       "        [0.4062, 0.4474],\n",
       "        [0.3377, 0.5306],\n",
       "        [0.4125, 0.4342],\n",
       "        [0.4942, 0.3947],\n",
       "        [0.4736, 0.4817],\n",
       "        [0.4107, 0.5155],\n",
       "        [0.3634, 0.4801]])"
      ]
     },
     "execution_count": 21,
     "metadata": {},
     "output_type": "execute_result"
    }
   ],
   "source": [
    "# Easiest from of comunication. Average the previous tokens until the current one\n",
    "\n",
    "xbow = torch.zeros((B, T, C))\n",
    "for b in range(B):\n",
    "    for t in range(T):\n",
    "        xprev = x[b, : t + 1]  # (t,C)\n",
    "        xbow[b, t] = torch.mean(xprev, 0)"
   ]
  },
  {
   "cell_type": "code",
   "execution_count": 22,
   "metadata": {},
   "outputs": [
    {
     "data": {
      "text/plain": [
       "tensor([[0.6186, 0.5587],\n",
       "        [0.1937, 0.3360],\n",
       "        [0.2008, 0.6970],\n",
       "        [0.6367, 0.1452],\n",
       "        [0.8213, 0.2365],\n",
       "        [0.3702, 0.9168],\n",
       "        [0.0333, 0.7183],\n",
       "        [0.0325, 0.2320]])"
      ]
     },
     "execution_count": 22,
     "metadata": {},
     "output_type": "execute_result"
    }
   ],
   "source": [
    "x[0]"
   ]
  },
  {
   "cell_type": "code",
   "execution_count": 23,
   "metadata": {},
   "outputs": [
    {
     "data": {
      "text/plain": [
       "tensor([[0.6186, 0.5587],\n",
       "        [0.4062, 0.4474],\n",
       "        [0.3377, 0.5306],\n",
       "        [0.4125, 0.4342],\n",
       "        [0.4942, 0.3947],\n",
       "        [0.4736, 0.4817],\n",
       "        [0.4107, 0.5155],\n",
       "        [0.3634, 0.4801]])"
      ]
     },
     "execution_count": 23,
     "metadata": {},
     "output_type": "execute_result"
    }
   ],
   "source": [
    "xbow[0]"
   ]
  },
  {
   "cell_type": "markdown",
   "metadata": {},
   "source": [
    "## Make it faster with matrix multiplication"
   ]
  },
  {
   "cell_type": "code",
   "execution_count": 25,
   "metadata": {},
   "outputs": [
    {
     "data": {
      "text/plain": [
       "tensor([[1., 0., 0.],\n",
       "        [1., 1., 0.],\n",
       "        [1., 1., 1.]])"
      ]
     },
     "execution_count": 25,
     "metadata": {},
     "output_type": "execute_result"
    }
   ],
   "source": [
    "torch.tril(torch.ones(3, 3))"
   ]
  },
  {
   "cell_type": "code",
   "execution_count": 29,
   "metadata": {},
   "outputs": [
    {
     "name": "stdout",
     "output_type": "stream",
     "text": [
      "A shape: torch.Size([3, 3])\n",
      "B shape: torch.Size([3, 2])\n",
      "a=\n",
      "tensor([[1., 0., 0.],\n",
      "        [1., 1., 0.],\n",
      "        [1., 1., 1.]])\n",
      "___\n",
      "b=\n",
      "tensor([[2., 7.],\n",
      "        [6., 4.],\n",
      "        [6., 5.]])\n",
      "___\n",
      "c=\n",
      "tensor([[ 2.,  7.],\n",
      "        [ 8., 11.],\n",
      "        [14., 16.]])\n",
      "\n",
      "We are doing sums (because a is 1s) of the rows of B, but only the first t rows\n",
      "\n",
      "To do average we need to divide by the number of rows we are summing\n",
      "\n",
      "A shape: torch.Size([3, 3])\n",
      "B shape: torch.Size([3, 2])\n",
      "a=\n",
      "tensor([[1.0000, 0.0000, 0.0000],\n",
      "        [0.5000, 0.5000, 0.0000],\n",
      "        [0.3333, 0.3333, 0.3333]])\n",
      "___\n",
      "b=\n",
      "tensor([[2., 7.],\n",
      "        [6., 4.],\n",
      "        [6., 5.]])\n",
      "___\n",
      "c=\n",
      "tensor([[2.0000, 7.0000],\n",
      "        [4.0000, 5.5000],\n",
      "        [4.6667, 5.3333]])\n"
     ]
    }
   ],
   "source": [
    "torch.manual_seed(42)\n",
    "\n",
    "a = torch.tril(torch.ones(3, 3))\n",
    "b = torch.randint(0, 10, (3, 2)).float()\n",
    "\n",
    "print(f\"A shape: {a.shape}\")\n",
    "print(f\"B shape: {b.shape}\")\n",
    "\n",
    "c = a @ b\n",
    "\n",
    "print(\"a=\")\n",
    "print(a)\n",
    "print(\"___\")\n",
    "print(\"b=\")\n",
    "print(b)\n",
    "print(\"___\")\n",
    "print(\"c=\")\n",
    "print(c)\n",
    "\n",
    "print()\n",
    "print(\"We are doing sums (because a is 1s) of the rows of B, but only the first t rows\")\n",
    "print()\n",
    "print(\"To do average we need to divide by the number of rows we are summing\")\n",
    "print()\n",
    "a = torch.tril(torch.ones(3, 3))\n",
    "a = a / a.sum(1, keepdim=True)\n",
    "\n",
    "print(f\"A shape: {a.shape}\")\n",
    "print(f\"B shape: {b.shape}\")\n",
    "\n",
    "c = a @ b\n",
    "\n",
    "print(\"a=\")\n",
    "print(a)\n",
    "print(\"___\")\n",
    "print(\"b=\")\n",
    "print(b)\n",
    "print(\"___\")\n",
    "print(\"c=\")\n",
    "print(c)"
   ]
  },
  {
   "cell_type": "markdown",
   "metadata": {},
   "source": [
    "### Optimize the previous code"
   ]
  },
  {
   "cell_type": "code",
   "execution_count": 32,
   "metadata": {},
   "outputs": [
    {
     "name": "stdout",
     "output_type": "stream",
     "text": [
      "Xboxw shape: torch.Size([4, 8, 2])\n"
     ]
    },
    {
     "data": {
      "text/plain": [
       "True"
      ]
     },
     "execution_count": 32,
     "metadata": {},
     "output_type": "execute_result"
    }
   ],
   "source": [
    "wei = torch.tril(torch.ones(T, T))\n",
    "wei = wei / wei.sum(1, keepdim=True)\n",
    "\n",
    "xbow2 = (\n",
    "    wei @ x\n",
    ")  # Wei (T, T) @ (B, T, C) = (B, T, C) Pytorch will broadcast the first dimension ---> (B, T, C)\n",
    "print(f\"Xboxw shape: {xbow2.shape}\")\n",
    "torch.allclose(xbow, xbow2)"
   ]
  },
  {
   "cell_type": "code",
   "execution_count": 33,
   "metadata": {},
   "outputs": [
    {
     "data": {
      "text/plain": [
       "True"
      ]
     },
     "execution_count": 33,
     "metadata": {},
     "output_type": "execute_result"
    }
   ],
   "source": [
    "# Version 3: use Softmax\n",
    "tril = torch.tril(torch.ones(T, T)) # Tril is all zeros except for the lower triangle\n",
    "wei = torch.zeros((T, T)) # wei is all zeros\n",
    "wei = wei.masked_fill(tril == 0, float(\"-inf\")) # Set the upper triangle to -inf\n",
    "\n",
    "wei = F.softmax(wei, dim=1)\n",
    "xbow3 = wei @ x\n",
    "torch.allclose(xbow, xbow3)"
   ]
  },
  {
   "cell_type": "code",
   "execution_count": 34,
   "metadata": {},
   "outputs": [
    {
     "data": {
      "text/plain": [
       "tensor([[1., 0., 0., 0., 0., 0., 0., 0.],\n",
       "        [1., 1., 0., 0., 0., 0., 0., 0.],\n",
       "        [1., 1., 1., 0., 0., 0., 0., 0.],\n",
       "        [1., 1., 1., 1., 0., 0., 0., 0.],\n",
       "        [1., 1., 1., 1., 1., 0., 0., 0.],\n",
       "        [1., 1., 1., 1., 1., 1., 0., 0.],\n",
       "        [1., 1., 1., 1., 1., 1., 1., 0.],\n",
       "        [1., 1., 1., 1., 1., 1., 1., 1.]])"
      ]
     },
     "execution_count": 34,
     "metadata": {},
     "output_type": "execute_result"
    }
   ],
   "source": [
    "tril   # Tril is all zeros except for the lower triangle"
   ]
  },
  {
   "cell_type": "code",
   "execution_count": 36,
   "metadata": {},
   "outputs": [
    {
     "data": {
      "text/plain": [
       "tensor([[0., 0., 0., 0., 0., 0., 0., 0.],\n",
       "        [0., 0., 0., 0., 0., 0., 0., 0.],\n",
       "        [0., 0., 0., 0., 0., 0., 0., 0.],\n",
       "        [0., 0., 0., 0., 0., 0., 0., 0.],\n",
       "        [0., 0., 0., 0., 0., 0., 0., 0.],\n",
       "        [0., 0., 0., 0., 0., 0., 0., 0.],\n",
       "        [0., 0., 0., 0., 0., 0., 0., 0.],\n",
       "        [0., 0., 0., 0., 0., 0., 0., 0.]])"
      ]
     },
     "execution_count": 36,
     "metadata": {},
     "output_type": "execute_result"
    }
   ],
   "source": [
    "wei  # wei is all zeros"
   ]
  },
  {
   "cell_type": "code",
   "execution_count": 37,
   "metadata": {},
   "outputs": [
    {
     "data": {
      "text/plain": [
       "tensor([[0., -inf, -inf, -inf, -inf, -inf, -inf, -inf],\n",
       "        [0., 0., -inf, -inf, -inf, -inf, -inf, -inf],\n",
       "        [0., 0., 0., -inf, -inf, -inf, -inf, -inf],\n",
       "        [0., 0., 0., 0., -inf, -inf, -inf, -inf],\n",
       "        [0., 0., 0., 0., 0., -inf, -inf, -inf],\n",
       "        [0., 0., 0., 0., 0., 0., -inf, -inf],\n",
       "        [0., 0., 0., 0., 0., 0., 0., -inf],\n",
       "        [0., 0., 0., 0., 0., 0., 0., 0.]])"
      ]
     },
     "execution_count": 37,
     "metadata": {},
     "output_type": "execute_result"
    }
   ],
   "source": [
    "tril = torch.tril(torch.ones(T, T))  # Tril is all zeros except for the lower triangle\n",
    "wei = torch.zeros((T, T))  # wei is all zeros\n",
    "wei.masked_fill(tril == 0, float(\"-inf\"))"
   ]
  },
  {
   "cell_type": "code",
   "execution_count": 38,
   "metadata": {},
   "outputs": [
    {
     "data": {
      "text/plain": [
       "tensor([[1.0000, 0.0000, 0.0000, 0.0000, 0.0000, 0.0000, 0.0000, 0.0000],\n",
       "        [0.5000, 0.5000, 0.0000, 0.0000, 0.0000, 0.0000, 0.0000, 0.0000],\n",
       "        [0.3333, 0.3333, 0.3333, 0.0000, 0.0000, 0.0000, 0.0000, 0.0000],\n",
       "        [0.2500, 0.2500, 0.2500, 0.2500, 0.0000, 0.0000, 0.0000, 0.0000],\n",
       "        [0.2000, 0.2000, 0.2000, 0.2000, 0.2000, 0.0000, 0.0000, 0.0000],\n",
       "        [0.1667, 0.1667, 0.1667, 0.1667, 0.1667, 0.1667, 0.0000, 0.0000],\n",
       "        [0.1429, 0.1429, 0.1429, 0.1429, 0.1429, 0.1429, 0.1429, 0.0000],\n",
       "        [0.1250, 0.1250, 0.1250, 0.1250, 0.1250, 0.1250, 0.1250, 0.1250]])"
      ]
     },
     "execution_count": 38,
     "metadata": {},
     "output_type": "execute_result"
    }
   ],
   "source": [
    "tril = torch.tril(torch.ones(T, T))  # Tril is all zeros except for the lower triangle\n",
    "wei = torch.zeros((T, T))  # wei is all zeros\n",
    "wei = wei.masked_fill(tril == 0, float(\"-inf\"))  # Set the upper triangle to -inf\n",
    "F.softmax(wei, dim=1)"
   ]
  },
  {
   "cell_type": "markdown",
   "metadata": {},
   "source": [
    "# Self Attention!"
   ]
  },
  {
   "cell_type": "code",
   "execution_count": 39,
   "metadata": {},
   "outputs": [
    {
     "name": "stdout",
     "output_type": "stream",
     "text": [
      "Key shape: torch.Size([3, 8, 16])\n",
      "Query shape: torch.Size([3, 8, 16])\n"
     ]
    },
    {
     "data": {
      "text/plain": [
       "torch.Size([3, 8, 32])"
      ]
     },
     "execution_count": 39,
     "metadata": {},
     "output_type": "execute_result"
    }
   ],
   "source": [
    "torch.manual_seed(1337)\n",
    "B, T, C = 3, 8, 32  # Batch, Time, Channels\n",
    "x = torch.rand(B, T, C)\n",
    "\n",
    "# Gather information from the past in a data-dependent way\n",
    "\n",
    "# Every single token will emit two vectors\n",
    "# Query: What I am looking for\n",
    "# Key: What do I contain\n",
    "\n",
    "# Query @ Key = Attention.\n",
    "\n",
    "# Attention is a measure of how much the query is similar to the key: SIMILARITY SCORE!!\n",
    "\n",
    "# Single head attention\n",
    "\n",
    "head_size = 16\n",
    "\n",
    "key = nn.Linear(C, head_size, bias=False)  # Embedding dimension x head size\n",
    "query = nn.Linear(C, head_size, bias=False)  # Embedding dimension x head size\n",
    "\n",
    "k = key(x)  # B, T, Head_size\n",
    "q = query(x)  # B, T, Head_size\n",
    "\n",
    "print(f\"Key shape: {k.shape}\")\n",
    "print(f\"Query shape: {q.shape}\")\n",
    "\n",
    "# Compute the attention score\n",
    "\n",
    "wei = q @ k.transpose(1, 2)  # (B, T, Head_size) @ (B, Head_size, T) = (B, T, T)\n",
    "\n",
    "\n",
    "tril = torch.tril(torch.ones(T, T))  # Mask have size Time x Time.\n",
    "wei = wei.masked_fill(\n",
    "    tril == 0, float(\"-inf\")\n",
    ")  # We mask the upper triangle. We set -inf to the upper triangle so after softmax it will be zero\n",
    "wei = F.softmax(wei, dim=-1)\n",
    "out = wei @ x\n",
    "\n",
    "out.shape"
   ]
  },
  {
   "cell_type": "markdown",
   "metadata": {},
   "source": [
    "# Add value"
   ]
  },
  {
   "cell_type": "code",
   "execution_count": 40,
   "metadata": {},
   "outputs": [
    {
     "name": "stdout",
     "output_type": "stream",
     "text": [
      "Key shape: torch.Size([3, 8, 16])\n",
      "Query shape: torch.Size([3, 8, 16])\n"
     ]
    },
    {
     "data": {
      "text/plain": [
       "torch.Size([3, 8, 16])"
      ]
     },
     "execution_count": 40,
     "metadata": {},
     "output_type": "execute_result"
    }
   ],
   "source": [
    "torch.manual_seed(1337)\n",
    "B, T, C = 3, 8, 32  # Batch, Time, Channels\n",
    "x = torch.rand(B, T, C)\n",
    "\n",
    "# Gather information from the past in a data-dependent way\n",
    "\n",
    "# Every single token will emit two vectors\n",
    "# Query: What I am looking for\n",
    "# Key: What do I contain\n",
    "# Value: If I find you interesting, this is what I will comunicate to you.\n",
    "\n",
    "# Query @ Key = Attention.\n",
    "\n",
    "# Attention is a measure of how much the query is similar to the key: SIMILARITY SCORE!!\n",
    "\n",
    "# Single head attention\n",
    "\n",
    "head_size = 16\n",
    "\n",
    "key = nn.Linear(C, head_size, bias=False)  # Embedding dimension x head size\n",
    "query = nn.Linear(C, head_size, bias=False)  # Embedding dimension x head size\n",
    "value = nn.Linear(C, head_size, bias=False)  # Embedding dimension x head size\n",
    "\n",
    "\n",
    "k = key(x)  # B, T, Head_size\n",
    "q = query(x)  # B, T, Head_size\n",
    "\n",
    "print(f\"Key shape: {k.shape}\")\n",
    "print(f\"Query shape: {q.shape}\")\n",
    "\n",
    "# Compute the attention score\n",
    "\n",
    "wei = q @ k.transpose(1, 2)  # (B, T, Head_size) @ (B, Head_size, T) = (B, T, T)\n",
    "\n",
    "\n",
    "tril = torch.tril(torch.ones(T, T))  # Mask have size Time x Time.\n",
    "wei = wei.masked_fill(\n",
    "    tril == 0, float(\"-inf\")\n",
    ")  # We mask the upper triangle. We set -inf to the upper triangle so after softmax it will be zero\n",
    "wei = F.softmax(wei, dim=-1)\n",
    "\n",
    "v = value(x)\n",
    "out = wei @ v\n",
    "\n",
    "out.shape"
   ]
  },
  {
   "cell_type": "markdown",
   "metadata": {},
   "source": [
    "# Scaled self attention"
   ]
  },
  {
   "cell_type": "code",
   "execution_count": 54,
   "metadata": {},
   "outputs": [],
   "source": [
    "k = torch.randn(B, T, head_size)\n",
    "q = torch.randn(B, T, head_size)\n",
    "wei = q @ k.transpose(1, 2)"
   ]
  },
  {
   "cell_type": "code",
   "execution_count": 55,
   "metadata": {},
   "outputs": [
    {
     "data": {
      "text/plain": [
       "tensor(1.1019)"
      ]
     },
     "execution_count": 55,
     "metadata": {},
     "output_type": "execute_result"
    }
   ],
   "source": [
    "k.var()"
   ]
  },
  {
   "cell_type": "code",
   "execution_count": 56,
   "metadata": {},
   "outputs": [
    {
     "data": {
      "text/plain": [
       "tensor(1.0096)"
      ]
     },
     "execution_count": 56,
     "metadata": {},
     "output_type": "execute_result"
    }
   ],
   "source": [
    "q.var()"
   ]
  },
  {
   "cell_type": "code",
   "execution_count": 57,
   "metadata": {},
   "outputs": [
    {
     "data": {
      "text/plain": [
       "tensor(14.7735)"
      ]
     },
     "execution_count": 57,
     "metadata": {},
     "output_type": "execute_result"
    }
   ],
   "source": [
    "wei.var()"
   ]
  },
  {
   "cell_type": "code",
   "execution_count": 58,
   "metadata": {},
   "outputs": [],
   "source": [
    "wei = q @ k.transpose(1, 2) * head_size**-0.5"
   ]
  },
  {
   "cell_type": "code",
   "execution_count": 59,
   "metadata": {},
   "outputs": [
    {
     "data": {
      "text/plain": [
       "tensor(0.9233)"
      ]
     },
     "execution_count": 59,
     "metadata": {},
     "output_type": "execute_result"
    }
   ],
   "source": [
    "wei.var()\n",
    "\n",
    "# Now the variance is 1\n",
    "# wei should be diffused. If it takes a lot of very high and very low values, the softmax will be one-hot-vectors. This is not good.\n"
   ]
  },
  {
   "cell_type": "markdown",
   "metadata": {},
   "source": [
    "# Multi-head attention"
   ]
  },
  {
   "cell_type": "code",
   "execution_count": 53,
   "metadata": {},
   "outputs": [
    {
     "data": {
      "text/plain": [
       "16"
      ]
     },
     "execution_count": 53,
     "metadata": {},
     "output_type": "execute_result"
    }
   ],
   "source": []
  }
 ],
 "metadata": {
  "kernelspec": {
   "display_name": "transformers",
   "language": "python",
   "name": "python3"
  },
  "language_info": {
   "codemirror_mode": {
    "name": "ipython",
    "version": 3
   },
   "file_extension": ".py",
   "mimetype": "text/x-python",
   "name": "python",
   "nbconvert_exporter": "python",
   "pygments_lexer": "ipython3",
   "version": "3.11.7"
  }
 },
 "nbformat": 4,
 "nbformat_minor": 2
}
